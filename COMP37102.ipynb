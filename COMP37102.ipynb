{
  "nbformat": 4,
  "nbformat_minor": 0,
  "metadata": {
    "colab": {
      "provenance": [],
      "gpuType": "T4",
      "include_colab_link": true
    },
    "kernelspec": {
      "name": "python3",
      "display_name": "Python 3"
    },
    "language_info": {
      "name": "python"
    },
    "accelerator": "GPU"
  },
  "cells": [
    {
      "cell_type": "markdown",
      "metadata": {
        "id": "view-in-github",
        "colab_type": "text"
      },
      "source": [
        "<a href=\"https://colab.research.google.com/github/dhirenmalik/comp3710-demo-2/blob/main/COMP37102.ipynb\" target=\"_parent\"><img src=\"https://colab.research.google.com/assets/colab-badge.svg\" alt=\"Open In Colab\"/></a>"
      ]
    },
    {
      "cell_type": "code",
      "execution_count": null,
      "metadata": {
        "id": "DMFrmh8hmjtz"
      },
      "outputs": [],
      "source": [
        "import numpy as np\n",
        "import matplotlib.pyplot as plt\n",
        "import time\n",
        "from sklearn.datasets import fetch_lfw_people\n",
        "from sklearn.model_selection import train_test_split\n",
        "from sklearn.metrics import classification_report\n",
        "import torch"
      ]
    },
    {
      "cell_type": "code",
      "source": [
        "# Download the data, if not already on disk and load it\n",
        "lfw_people = fetch_lfw_people(min_faces_per_person=70, resize=0.4)"
      ],
      "metadata": {
        "id": "ogA78yRGqTbd"
      },
      "execution_count": null,
      "outputs": []
    },
    {
      "cell_type": "code",
      "source": [
        "# introspect the images arrays to find the shapes (for plotting)\n",
        "n_samples, h, w = lfw_people.images.shape\n",
        "\n",
        "# for machine learning we use the 2 data directly (as relative pixel\n",
        "# positions info is ignored by this model)\n",
        "\n",
        "X = torch.tensor(lfw_people.data, dtype=torch.float32)\n",
        "n_features = X.shape[1]\n",
        "\n",
        "# the label to predict is the id of the person\n",
        "y = torch.tensor(lfw_people.target)\n",
        "target_names = lfw_people.target_names\n",
        "n_classes = target_names.shape[0]\n",
        "print(\"Total dataset size:\")\n",
        "print(\"n_samples: %d\" % n_samples)\n",
        "print(\"n_features: %d\" % n_features)\n",
        "print(\"n_classes: %d\" % n_classes)"
      ],
      "metadata": {
        "colab": {
          "base_uri": "https://localhost:8080/"
        },
        "id": "_PIy-yXMqYrJ",
        "outputId": "be3b7b5f-16d1-4d31-fe5a-ae79625cea78"
      },
      "execution_count": null,
      "outputs": [
        {
          "output_type": "stream",
          "name": "stdout",
          "text": [
            "Total dataset size:\n",
            "n_samples: 1288\n",
            "n_features: 1850\n",
            "n_classes: 7\n"
          ]
        }
      ]
    },
    {
      "cell_type": "code",
      "source": [
        "# Split into a training set and a test set using a stratified k fold\n",
        "X_train, X_test, y_train, y_test = train_test_split(X, y, test_size=0.25, random_state=42)\n",
        "\n",
        "# Compute a PCA (eigenfaces) on the face dataset (treated as unlabeled\n",
        "# dataset): unsupervised feature extraction / dimensionality reduction\n",
        "n_components = 150"
      ],
      "metadata": {
        "id": "01bHgYamqj1t"
      },
      "execution_count": null,
      "outputs": []
    },
    {
      "cell_type": "code",
      "source": [
        "# Center data\n",
        "mean = torch.mean(X_train, dim=0)\n",
        "X_train_centered = X_train - mean\n",
        "X_test_centered = X_test - mean\n",
        "\n",
        "#Eigen-decomposition using SVD\n",
        "U, S, V = torch.linalg.svd(X_train_centered, full_matrices=False)\n",
        "components = V[:n_components]\n",
        "eigenfaces = components.reshape((n_components, h, w))\n",
        "\n",
        "#project into PCA subspace\n",
        "X_transformed = torch.mm(X_train_centered, components.T)\n",
        "print(X_transformed.shape)\n",
        "X_test_transformed = torch.mm(X_test_centered, components.T)\n",
        "print(X_test_transformed.shape)"
      ],
      "metadata": {
        "colab": {
          "base_uri": "https://localhost:8080/"
        },
        "id": "PurosKKvqpKV",
        "outputId": "88e79219-43d2-44b2-d0a9-c5a8d4b6ed48"
      },
      "execution_count": null,
      "outputs": [
        {
          "output_type": "stream",
          "name": "stdout",
          "text": [
            "torch.Size([966, 150])\n",
            "torch.Size([322, 150])\n"
          ]
        }
      ]
    },
    {
      "cell_type": "code",
      "source": [
        "# Qualitative evaluation of the predictions using matplotlib\n",
        "def plot_gallery(images, titles, h, w, n_row=3, n_col=4):\n",
        "  \"\"\"Helper function to plot a gallery of portraits\"\"\"\n",
        "  plt.figure(figsize=(1.8 * n_col, 2.4 * n_row))\n",
        "  plt.subplots_adjust(bottom=0, left=.01, right=.99, top=.90, hspace=.35)\n",
        "  for i in range(n_row * n_col):\n",
        "    plt.subplot(n_row, n_col, i + 1)\n",
        "    plt.imshow(images[i].reshape((h, w)), cmap=plt.cm.gray)\n",
        "    plt.title(titles[i], size=12)\n",
        "    plt.xticks(())\n",
        "    plt.yticks(())\n",
        "\n",
        "eigenface_titles = [\"eigenface %d\" % i for i in range(eigenfaces.shape[0])]\n",
        "plot_gallery(eigenfaces.cpu().numpy(), eigenface_titles, h, w)\n",
        "plt.show()"
      ],
      "metadata": {
        "colab": {
          "base_uri": "https://localhost:8080/",
          "height": 707
        },
        "id": "6cYpC335rCH9",
        "outputId": "8470dbe3-0ecc-4044-a3ae-c617f74c0a09"
      },
      "execution_count": null,
      "outputs": [
        {
          "output_type": "display_data",
          "data": {
            "text/plain": [
              "<Figure size 720x720 with 12 Axes>"
            ],
            "image/png": "[encoded data removed]"
          },
          "metadata": {}
        }
      ]
    },
    {
      "cell_type": "code",
      "source": [
        "explained_variance = (S ** 2) / (n_samples - 1)\n",
        "total_var = explained_variance.sum()\n",
        "explained_variance_ratio = explained_variance / total_var\n",
        "ratio_cumsum = torch.cumsum(explained_variance_ratio, dim=0)\n",
        "print(ratio_cumsum.shape)\n",
        "eigenvectorCount = np.arange(n_components)\n",
        "plt.plot(eigenvectorCount, ratio_cumsum[:n_components].cpu().numpy())\n",
        "plt.title('Compactness')\n",
        "plt.show()"
      ],
      "metadata": {
        "colab": {
          "base_uri": "https://localhost:8080/",
          "height": 469
        },
        "id": "2NhRkigzsNB7",
        "outputId": "d9175391-2adb-4c44-9ac7-62efc6df7bb3"
      },
      "execution_count": null,
      "outputs": [
        {
          "output_type": "stream",
          "name": "stdout",
          "text": [
            "torch.Size([966])\n"
          ]
        },
        {
          "output_type": "display_data",
          "data": {
            "text/plain": [
              "<Figure size 640x480 with 1 Axes>"
            ],
            "image/png": "[encoded data removed]"
          },
          "metadata": {}
        }
      ]
    },
    {
      "cell_type": "code",
      "source": [
        "from sklearn.ensemble import RandomForestClassifier\n",
        "from sklearn.model_selection import cross_val_score\n",
        "\n",
        "#build random forest\n",
        "estimator = RandomForestClassifier(n_estimators=150, max_depth=15, max_features=150)\n",
        "estimator.fit(X_transformed, y_train) #expects X as [n_samples, n_features]\n",
        "predictions = estimator.predict(X_test_transformed)\n",
        "correct = predictions==y_test\n",
        "total_test = len(X_test_transformed)"
      ],
      "metadata": {
        "id": "Zh639uWft8o6"
      },
      "execution_count": null,
      "outputs": []
    },
    {
      "cell_type": "code",
      "metadata": {
        "id": "0d8794bd"
      },
      "source": [
        "import numpy as np\n",
        "import torch\n",
        "from dataclasses import dataclass\n",
        "from typing import Optional, Tuple\n",
        "\n",
        "def _to_numpy(x: torch.Tensor) -> np.ndarray:\n",
        "    # Move to CPU and get a contiguous float64/int64 array\n",
        "    if x.is_cuda:\n",
        "        x = x.cpu()\n",
        "    arr = x.detach().numpy()\n",
        "    # Ensure dtypes are friendly\n",
        "    if arr.dtype.kind == 'f':\n",
        "        return arr.astype(np.float64, copy=False)\n",
        "    if arr.dtype.kind in ('i', 'u'):\n",
        "        return arr.astype(np.int64, copy=False)\n",
        "    return arr\n",
        "\n",
        "@dataclass\n",
        "class _Node:\n",
        "    is_leaf: bool\n",
        "    prediction: Optional[int] = None\n",
        "    feature: Optional[int] = None\n",
        "    threshold: Optional[float] = None\n",
        "    left: Optional[\"__class__\"] = None\n",
        "    right: Optional[\"__class__\"] = None\n",
        "\n",
        "class DecisionTree:\n",
        "    \"\"\"\n",
        "    Classification tree using Gini impurity.\n",
        "    Split search is O(F * N log N) per node via (sort -> prefix class counts).\n",
        "    \"\"\"\n",
        "    def __init__(\n",
        "        self,\n",
        "        max_depth: int = 10,\n",
        "        min_samples_split: int = 2,\n",
        "        max_features: Optional[int] = None,\n",
        "        random_state: Optional[np.random.Generator] = None,\n",
        "    ):\n",
        "        self.max_depth = max_depth\n",
        "        self.min_samples_split = min_samples_split\n",
        "        self.max_features = max_features  # if None, set to sqrt(n_features) at fit\n",
        "        self.rng = random_state if random_state is not None else np.random.default_rng()\n",
        "        self.n_classes_ = None\n",
        "        self.root_: Optional[_Node] = None\n",
        "\n",
        "    def fit(self, X_torch: torch.Tensor, y_torch: torch.Tensor):\n",
        "        X = _to_numpy(X_torch)\n",
        "        y = _to_numpy(y_torch).astype(np.int64, copy=False)\n",
        "\n",
        "        self.n_classes_ = int(np.max(y)) + 1\n",
        "        n_features = X.shape[1]\n",
        "        if self.max_features is None:\n",
        "            self.max_features_ = max(1, int(np.sqrt(n_features)))\n",
        "        else:\n",
        "            self.max_features_ = min(n_features, self.max_features)\n",
        "\n",
        "        indices = np.arange(X.shape[0], dtype=np.int64)\n",
        "        self.root_ = self._build_node(X, y, indices, depth=0)\n",
        "        return self\n",
        "\n",
        "    def _leaf(self, y_idx: np.ndarray) -> _Node:\n",
        "        # Majority class\n",
        "        counts = np.bincount(y_idx, minlength=self.n_classes_)\n",
        "        return _Node(is_leaf=True, prediction=int(np.argmax(counts)))\n",
        "\n",
        "    @staticmethod\n",
        "    def _gini(counts: np.ndarray) -> float:\n",
        "        # counts = class counts in a node\n",
        "        n = counts.sum()\n",
        "        if n == 0:\n",
        "            return 0.0\n",
        "        p = counts / n\n",
        "        return 1.0 - np.sum(p * p)\n",
        "\n",
        "    def _best_split_for_feature(\n",
        "        self, x_col: np.ndarray, y_sub: np.ndarray\n",
        "    ) -> Tuple[Optional[float], float]:\n",
        "        \"\"\"\n",
        "        Given a single feature column x_col and corresponding labels y_sub for current node,\n",
        "        find best threshold (between sorted distinct values) minimizing weighted Gini.\n",
        "        Returns (threshold, impurity). If no valid split, (None, +inf).\n",
        "        \"\"\"\n",
        "        # Sort by feature\n",
        "        order = np.argsort(x_col, kind='stable')\n",
        "        x_sorted = x_col[order]\n",
        "        y_sorted = y_sub[order]\n",
        "\n",
        "        # Candidates are boundaries between distinct consecutive x values\n",
        "        diff = np.diff(x_sorted)\n",
        "        valid = diff > 0\n",
        "        if not np.any(valid):\n",
        "            return None, float('inf')\n",
        "\n",
        "        # Prefix class counts L[k] = counts for y_sorted[:k+1]\n",
        "        # Build cumulative counts for all classes efficiently\n",
        "        counts_total = np.bincount(y_sorted, minlength=self.n_classes_).astype(np.int64, copy=False)\n",
        "        # Build prefix counts by scanning y_sorted\n",
        "        # Use 2D prefix: rows = positions, cols = classes\n",
        "        # Efficient approach: accumulate per position for the class of that position\n",
        "        prefix = np.zeros((y_sorted.size, self.n_classes_), dtype=np.int64)\n",
        "        prefix[0, y_sorted[0]] = 1\n",
        "        for i in range(1, y_sorted.size):\n",
        "            prefix[i] = prefix[i-1]\n",
        "            prefix[i, y_sorted[i]] += 1\n",
        "\n",
        "        best_impurity = float('inf')\n",
        "        best_pos = -1\n",
        "\n",
        "        # Evaluate splits at positions where x changes: split after position i (left = 0..i, right = i+1..end)\n",
        "        # We must exclude trivial splits (all left or all right)\n",
        "        positions = np.nonzero(valid)[0]  # positions where boundary between i and i+1 is valid\n",
        "        n = y_sorted.size\n",
        "\n",
        "        for i in positions:\n",
        "            left_counts = prefix[i]\n",
        "            right_counts = counts_total - left_counts\n",
        "            nL = i + 1\n",
        "            nR = n - nL\n",
        "            if nL == 0 or nR == 0:\n",
        "                continue\n",
        "            gL = self._gini(left_counts)\n",
        "            gR = self._gini(right_counts)\n",
        "            impurity = (nL * gL + nR * gR) / n\n",
        "            if impurity < best_impurity:\n",
        "                best_impurity = impurity\n",
        "                best_pos = i\n",
        "\n",
        "        if best_pos == -1:\n",
        "            return None, float('inf')\n",
        "\n",
        "        # Threshold halfway between x_sorted[best_pos] and x_sorted[best_pos+1]\n",
        "        thr = 0.5 * (x_sorted[best_pos] + x_sorted[best_pos + 1])\n",
        "        return float(thr), float(best_impurity)\n",
        "\n",
        "    def _choose_split(\n",
        "        self, X: np.ndarray, y: np.ndarray, idx: np.ndarray\n",
        "    ) -> Tuple[Optional[int], Optional[float]]:\n",
        "        # Random feature subset (feature bagging)\n",
        "        n_features = X.shape[1]\n",
        "        feat_indices = self.rng.choice(n_features, size=self.max_features_, replace=False)\n",
        "\n",
        "        y_sub = y[idx]\n",
        "        best_feature = None\n",
        "        best_threshold = None\n",
        "        best_impurity = float('inf')\n",
        "\n",
        "        for f in feat_indices:\n",
        "            x_col = X[idx, f]\n",
        "            thr, imp = self._best_split_for_feature(x_col, y_sub)\n",
        "            if thr is not None and imp < best_impurity:\n",
        "                best_impurity = imp\n",
        "                best_feature = f\n",
        "                best_threshold = thr\n",
        "\n",
        "        return best_feature, best_threshold\n",
        "\n",
        "    def _build_node(self, X: np.ndarray, y: np.ndarray, idx: np.ndarray, depth: int) -> _Node:\n",
        "        # Stop conditions\n",
        "        y_sub = y[idx]\n",
        "        n_samples = idx.size\n",
        "        if (\n",
        "            depth >= self.max_depth\n",
        "            or n_samples < self.min_samples_split\n",
        "            or np.unique(y_sub).size == 1\n",
        "        ):\n",
        "            return self._leaf(y_sub)\n",
        "\n",
        "        feature, threshold = self._choose_split(X, y, idx)\n",
        "        if feature is None:\n",
        "            return self._leaf(y_sub)\n",
        "\n",
        "        # Partition\n",
        "        x_col = X[idx, feature]\n",
        "        left_mask = x_col <= threshold\n",
        "        right_mask = ~left_mask\n",
        "\n",
        "        # Safety: if degenerate, make leaf\n",
        "        if not np.any(left_mask) or not np.any(right_mask):\n",
        "            return self._leaf(y_sub)\n",
        "\n",
        "        left_idx = idx[left_mask]\n",
        "        right_idx = idx[right_mask]\n",
        "\n",
        "        left_node = self._build_node(X, y, left_idx, depth + 1)\n",
        "        right_node = self._build_node(X, y, right_idx, depth + 1)\n",
        "\n",
        "        return _Node(\n",
        "            is_leaf=False,\n",
        "            prediction=None,\n",
        "            feature=int(feature),\n",
        "            threshold=float(threshold),\n",
        "            left=left_node,\n",
        "            right=right_node,\n",
        "        )\n",
        "\n",
        "    def predict(self, X_torch: torch.Tensor) -> torch.Tensor:\n",
        "        X = _to_numpy(X_torch).astype(np.float64, copy=False)\n",
        "        preds = np.empty(X.shape[0], dtype=np.int64)\n",
        "        for i in range(X.shape[0]):\n",
        "            preds[i] = self._predict_one(self.root_, X[i])\n",
        "        return torch.from_numpy(preds)\n",
        "\n",
        "    def _predict_one(self, node: _Node, x: np.ndarray) -> int:\n",
        "        while not node.is_leaf:\n",
        "            if x[node.feature] <= node.threshold:\n",
        "                node = node.left\n",
        "            else:\n",
        "                node = node.right\n",
        "        return node.prediction\n",
        "\n"
      ],
      "execution_count": null,
      "outputs": []
    },
    {
      "cell_type": "code",
      "metadata": {
        "id": "705a4d61"
      },
      "source": [
        "class RandomForest:\n",
        "    \"\"\"\n",
        "    CPU-optimized Random Forest Classifier.\n",
        "    - Bootstrapping on indices\n",
        "    - Feature bagging inside trees (sqrt by default)\n",
        "    - NumPy core for split/search speed, returns torch tensors for convenience\n",
        "    \"\"\"\n",
        "    def __init__(\n",
        "        self,\n",
        "        n_estimators: int = 100,\n",
        "        max_depth: int = 10,\n",
        "        min_samples_split: int = 2,\n",
        "        max_features: Optional[int] = None,  # None -> sqrt(d)\n",
        "        random_state: Optional[int] = None,\n",
        "    ):\n",
        "        self.n_estimators = n_estimators\n",
        "        self.max_depth = max_depth\n",
        "        self.min_samples_split = min_samples_split\n",
        "        self.max_features = max_features\n",
        "        self.rng = np.random.default_rng(random_state)\n",
        "        self.trees = []\n",
        "\n",
        "    def fit(self, X_torch: torch.Tensor, y_torch: torch.Tensor):\n",
        "        X = _to_numpy(X_torch).astype(np.float64, copy=False)\n",
        "        y = _to_numpy(y_torch).astype(np.int64, copy=False)\n",
        "\n",
        "        n_samples = X.shape[0]\n",
        "        self.trees = []\n",
        "        for _ in range(self.n_estimators):\n",
        "            # Bootstrap sample\n",
        "            indices = self.rng.integers(0, n_samples, size=n_samples, endpoint=False)\n",
        "\n",
        "            tree = DecisionTree(\n",
        "                max_depth=self.max_depth,\n",
        "                min_samples_split=self.min_samples_split,\n",
        "                max_features=self.max_features,\n",
        "                random_state=np.random.default_rng(self.rng.integers(0, 2**31 - 1)),\n",
        "            )\n",
        "            tree.fit(torch.from_numpy(X[indices]), torch.from_numpy(y[indices]))\n",
        "            self.trees.append(tree)\n",
        "        return self\n",
        "\n",
        "    def predict(self, X_torch: torch.Tensor) -> torch.Tensor:\n",
        "        # Collect predictions from all trees (NumPy for speed)\n",
        "        X = _to_numpy(X_torch).astype(np.float64, copy=False)\n",
        "        all_preds = np.stack([t.predict(torch.from_numpy(X)).numpy() for t in self.trees], axis=0)  # (n_estimators, n_samples)\n",
        "\n",
        "        # Majority vote via bincount per column\n",
        "        n_estimators, n_samples = all_preds.shape\n",
        "        out = np.empty(n_samples, dtype=np.int64)\n",
        "        for j in range(n_samples):\n",
        "            out[j] = np.bincount(all_preds[:, j]).argmax()\n",
        "        return torch.from_numpy(out)"
      ],
      "execution_count": null,
      "outputs": []
    },
    {
      "cell_type": "code",
      "metadata": {
        "colab": {
          "base_uri": "https://localhost:8080/"
        },
        "id": "96987531",
        "outputId": "02e791bc-7ca9-4cc8-9391-49477dec8ec5"
      },
      "source": [
        "# Check for GPU availability and set the device\n",
        "device = torch.device('cuda' if torch.cuda.is_available() else 'cpu')\n",
        "print(f\"Using device: {device}\")\n",
        "\n",
        "#SCRATCHT THAT WE GOING CPU\n",
        "device = torch.device('cpu')\n",
        "print(f\"Using device: {device}\")\n",
        "\n",
        "# Move data to the chosen device\n",
        "X_transformed = X_transformed.to(device)\n",
        "y_train = y_train.to(device)\n",
        "X_test_transformed = X_test_transformed.to(device)\n",
        "y_test = y_test.to(device)\n",
        "\n",
        "\n",
        "# Train the Random Forest model on the chosen device\n",
        "rf_model = RandomForest(n_estimators=100, max_depth=10, min_samples_split=5)\n",
        "rf_model.fit(X_transformed, y_train)\n",
        "\n",
        "# Make predictions on the test set\n",
        "predictions = rf_model.predict(X_test_transformed)\n",
        "\n",
        "# Evaluate the model (move predictions and y_test to CPU for classification_report if they are on GPU)\n",
        "correct = (predictions == y_test).sum().item()\n",
        "total_test = y_test.shape[0]\n",
        "accuracy = correct / total_test\n",
        "\n",
        "print(f\"Total Testing: {total_test}\")\n",
        "print(f\"Total Correct: {correct}\")\n",
        "print(f\"Accuracy: {accuracy:.4f}\")\n",
        "# Ensure tensors are on CPU for classification_report\n",
        "print(classification_report(y_test.cpu().numpy(), predictions.cpu().numpy(), target_names=target_names))"
      ],
      "execution_count": null,
      "outputs": [
        {
          "output_type": "stream",
          "name": "stdout",
          "text": [
            "Using device: cuda\n",
            "Using device: cpu\n",
            "Total Testing: 322\n",
            "Total Correct: 177\n",
            "Accuracy: 0.5497\n",
            "                   precision    recall  f1-score   support\n",
            "\n",
            "     Ariel Sharon       0.00      0.00      0.00        13\n",
            "     Colin Powell       0.71      0.40      0.51        60\n",
            "  Donald Rumsfeld       1.00      0.11      0.20        27\n",
            "    George W Bush       0.52      0.99      0.68       146\n",
            "Gerhard Schroeder       0.75      0.12      0.21        25\n",
            "      Hugo Chavez       0.00      0.00      0.00        15\n",
            "       Tony Blair       1.00      0.06      0.11        36\n",
            "\n",
            "         accuracy                           0.55       322\n",
            "        macro avg       0.57      0.24      0.24       322\n",
            "     weighted avg       0.62      0.55      0.45       322\n",
            "\n"
          ]
        },
        {
          "output_type": "stream",
          "name": "stderr",
          "text": [
            "/usr/local/lib/python3.12/dist-packages/sklearn/metrics/_classification.py:1565: UndefinedMetricWarning: Precision is ill-defined and being set to 0.0 in labels with no predicted samples. Use `zero_division` parameter to control this behavior.\n",
            "  _warn_prf(average, modifier, f\"{metric.capitalize()} is\", len(result))\n",
            "/usr/local/lib/python3.12/dist-packages/sklearn/metrics/_classification.py:1565: UndefinedMetricWarning: Precision is ill-defined and being set to 0.0 in labels with no predicted samples. Use `zero_division` parameter to control this behavior.\n",
            "  _warn_prf(average, modifier, f\"{metric.capitalize()} is\", len(result))\n",
            "/usr/local/lib/python3.12/dist-packages/sklearn/metrics/_classification.py:1565: UndefinedMetricWarning: Precision is ill-defined and being set to 0.0 in labels with no predicted samples. Use `zero_division` parameter to control this behavior.\n",
            "  _warn_prf(average, modifier, f\"{metric.capitalize()} is\", len(result))\n"
          ]
        }
      ]
    },
    {
      "cell_type": "code",
      "source": [
        "#print(\"Gnd Truth:\", y_test)\n",
        "print(\"Total Testing\", total_test)\n",
        "print(\"Predictions\", predictions)\n",
        "print(\"Which Correct:\",correct)\n",
        "print(\"Total Correct:\",np.sum(correct))\n",
        "print(\"Accuracy:\",np.sum(correct)/total_test)\n",
        "print(classification_report(y_test, predictions, target_names=target_names))"
      ],
      "metadata": {
        "id": "EkqlzMROuBE-",
        "colab": {
          "base_uri": "https://localhost:8080/"
        },
        "outputId": "dba68e51-e72b-4359-de00-25fd88ad8965"
      },
      "execution_count": null,
      "outputs": [
        {
          "output_type": "stream",
          "name": "stdout",
          "text": [
            "Total Testing 322\n",
            "Predictions tensor([3, 3, 3, 3, 3, 3, 3, 3, 3, 3, 3, 3, 3, 3, 3, 3, 3, 3, 3, 3, 1, 3, 3, 3,\n",
            "        3, 1, 3, 3, 3, 3, 3, 3, 3, 3, 3, 3, 3, 3, 3, 3, 3, 3, 3, 1, 1, 3, 3, 3,\n",
            "        3, 3, 3, 3, 3, 3, 3, 2, 3, 3, 3, 3, 1, 3, 3, 3, 3, 3, 3, 3, 3, 3, 3, 6,\n",
            "        3, 3, 3, 3, 3, 3, 3, 3, 3, 3, 3, 3, 3, 3, 3, 3, 3, 3, 3, 3, 3, 3, 1, 3,\n",
            "        3, 1, 3, 3, 3, 3, 3, 3, 3, 3, 3, 3, 3, 3, 3, 1, 3, 3, 3, 3, 3, 4, 3, 3,\n",
            "        1, 3, 3, 3, 3, 3, 3, 3, 3, 3, 4, 6, 3, 3, 3, 1, 3, 3, 1, 1, 1, 3, 3, 1,\n",
            "        3, 3, 3, 3, 1, 1, 1, 3, 3, 3, 3, 3, 3, 3, 3, 3, 3, 3, 3, 1, 3, 3, 3, 1,\n",
            "        3, 3, 3, 3, 3, 1, 3, 3, 3, 3, 3, 3, 3, 3, 3, 3, 3, 3, 3, 3, 3, 2, 3, 3,\n",
            "        3, 3, 1, 3, 3, 3, 3, 3, 3, 3, 3, 2, 3, 1, 3, 3, 3, 3, 3, 3, 3, 3, 3, 3,\n",
            "        3, 3, 3, 3, 3, 3, 3, 1, 3, 3, 3, 3, 3, 3, 3, 3, 3, 3, 3, 1, 3, 3, 3, 3,\n",
            "        3, 3, 3, 3, 3, 3, 3, 3, 3, 3, 3, 3, 3, 3, 3, 4, 3, 1, 3, 3, 3, 3, 3, 1,\n",
            "        3, 3, 3, 1, 3, 3, 1, 3, 3, 3, 3, 3, 3, 3, 3, 3, 1, 1, 3, 3, 3, 3, 3, 3,\n",
            "        3, 4, 3, 3, 3, 3, 3, 3, 3, 3, 3, 3, 3, 1, 1, 3, 1, 3, 3, 3, 3, 3, 3, 3,\n",
            "        1, 3, 3, 3, 3, 3, 3, 3, 3, 3])\n",
            "Which Correct: 177\n",
            "Total Correct: 177\n",
            "Accuracy: 0.5496894409937888\n",
            "                   precision    recall  f1-score   support\n",
            "\n",
            "     Ariel Sharon       0.00      0.00      0.00        13\n",
            "     Colin Powell       0.71      0.40      0.51        60\n",
            "  Donald Rumsfeld       1.00      0.11      0.20        27\n",
            "    George W Bush       0.52      0.99      0.68       146\n",
            "Gerhard Schroeder       0.75      0.12      0.21        25\n",
            "      Hugo Chavez       0.00      0.00      0.00        15\n",
            "       Tony Blair       1.00      0.06      0.11        36\n",
            "\n",
            "         accuracy                           0.55       322\n",
            "        macro avg       0.57      0.24      0.24       322\n",
            "     weighted avg       0.62      0.55      0.45       322\n",
            "\n"
          ]
        },
        {
          "output_type": "stream",
          "name": "stderr",
          "text": [
            "/usr/local/lib/python3.12/dist-packages/sklearn/metrics/_classification.py:1565: UndefinedMetricWarning: Precision is ill-defined and being set to 0.0 in labels with no predicted samples. Use `zero_division` parameter to control this behavior.\n",
            "  _warn_prf(average, modifier, f\"{metric.capitalize()} is\", len(result))\n",
            "/usr/local/lib/python3.12/dist-packages/sklearn/metrics/_classification.py:1565: UndefinedMetricWarning: Precision is ill-defined and being set to 0.0 in labels with no predicted samples. Use `zero_division` parameter to control this behavior.\n",
            "  _warn_prf(average, modifier, f\"{metric.capitalize()} is\", len(result))\n",
            "/usr/local/lib/python3.12/dist-packages/sklearn/metrics/_classification.py:1565: UndefinedMetricWarning: Precision is ill-defined and being set to 0.0 in labels with no predicted samples. Use `zero_division` parameter to control this behavior.\n",
            "  _warn_prf(average, modifier, f\"{metric.capitalize()} is\", len(result))\n"
          ]
        }
      ]
    }
  ]
}